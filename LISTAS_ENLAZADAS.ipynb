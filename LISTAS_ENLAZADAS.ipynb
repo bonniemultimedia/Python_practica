{
 "cells": [
  {
   "cell_type": "markdown",
   "id": "156a11f8",
   "metadata": {},
   "source": [
    "# Listas"
   ]
  },
  {
   "cell_type": "markdown",
   "id": "120739fc",
   "metadata": {},
   "source": [
    "## Ejercicio 1\n",
    "Complete la implementación del TAD Lista utilizando nodos enlazados. Falta implementar los métodos\n",
    "index, append, __len__ y __str__. "
   ]
  },
  {
   "cell_type": "code",
   "execution_count": 11,
   "id": "b6a6e340",
   "metadata": {},
   "outputs": [],
   "source": [
    "from typing import Any\n",
    "class _Nodo:\n",
    "    def __init__(self, dato: Any = None, prox=None):\n",
    "        self.dato = dato\n",
    "        self.prox = prox\n",
    "    \n",
    "    def __str__(self):\n",
    "        return str(self.dato)"
   ]
  },
  {
   "cell_type": "code",
   "execution_count": 12,
   "id": "d098fe07",
   "metadata": {},
   "outputs": [],
   "source": [
    "def ver_lista(nodo: _Nodo | None) -> None:\n",
    "\n",
    "    while nodo is not None:\n",
    "        print(nodo)\n",
    "        nodo = nodo.prox\n"
   ]
  },
  {
   "cell_type": "code",
   "execution_count": null,
   "id": "dcbab5c6",
   "metadata": {},
   "outputs": [],
   "source": [
    "class ListaEnlazada:\n",
    "    def __init__(self) -> None:\n",
    "        # Referencia al primer nodo (None si la lista está vacía)\n",
    "        self.prim = None\n",
    "        # Cantidad de elementos de la lista\n",
    "        self.len = 0\n",
    "\n",
    "    def insert(self, i: int, x: Any) -> None:\n",
    "        if i < 0 or i > self.len:\n",
    "            print(\"Posición inválida\")\n",
    "            return\n",
    "        nuevo = _Nodo(x)\n",
    "        if i == 0:\n",
    "            # Caso particular : insertar al principio\n",
    "            nuevo.prox = self.prim\n",
    "            self.prim = nuevo\n",
    "        else:\n",
    "            # Buscar el nodo anterior a la posición deseada\n",
    "            n_ant = self.prim\n",
    "            for pos in range(1, i):\n",
    "                n_ant = n_ant.prox\n",
    "            # Intercalar el nuevo nodo\n",
    "            nuevo.prox = n_ant.prox\n",
    "            n_ant.prox = nuevo\n",
    "        self.len += 1\n",
    "\n",
    "    def pop(self, i: int | None = None) -> Any:\n",
    "        if i is None:\n",
    "            i = self.len - 1\n",
    "        if i < 0 or i >= self.len:\n",
    "            print(\" Posición inválida \")\n",
    "            return\n",
    "        if i == 0:\n",
    "            # Caso particular: saltear la cabecera de la lista\n",
    "            dato = self.prim.dato\n",
    "            self.prim = self.prim.prox\n",
    "        else:\n",
    "            # Buscar los nodos en las posiciones (i -1) e (i)\n",
    "            n_ant = self.prim\n",
    "            n_act = n_ant.prox\n",
    "            for pos in range(1, i):\n",
    "                n_ant = n_act\n",
    "                n_act = n_ant.prox\n",
    "            # Guardar el dato y descartar el nodo\n",
    "            dato = n_act.dato\n",
    "            n_ant.prox = n_act.prox\n",
    "            self.len -= 1\n",
    "        return dato\n",
    "    \n",
    "    def remove(self, x: Any) -> None:\n",
    "        if self.len == 0:\n",
    "            print(\"La lista esta vacía\")\n",
    "            return\n",
    "        if self.prim.dato == x:\n",
    "            # Caso particular: saltear la cabecera de la lista\n",
    "            self.prim = self.prim.prox\n",
    "        else:\n",
    "            # Buscar el nodo anterior al que contiene a x (n_ant)\n",
    "            n_ant = self.prim\n",
    "            n_act = n_ant.prox\n",
    "            while n_act is not None and n_act.dato != x:\n",
    "                n_ant = n_act\n",
    "                n_act = n_ant.prox\n",
    "            if n_act is None:\n",
    "                print(\"El valor no está en la lista.\")\n",
    "                return\n",
    "            # Descartar el nodo\n",
    "            n_ant.prox = n_act.prox\n",
    "            self.len -= 1\n",
    "\n",
    "    def __len__(self)-> int:\n",
    "        return self.len\n",
    "    \n",
    "    def __str__(self) -> str:\n",
    "        ver_lista = []\n",
    "        if self.len == 0:\n",
    "            return \n",
    "        while self.dato not None:\n",
    "              ver_lista.append(str (self.dato))\n",
    "        return ver_lista\n",
    " \n",
    "    def append(self, x) -> None: #agrega un elemento al final de la lista\n",
    "        nuevo_nodo = _Nodo(x)\n",
    "        if self.len == 0:\n",
    "            self.prim = nuevo_nodo\n",
    "            self.len += 1\n",
    "        else: \n",
    "            actual = self.prim # Creo un puntero apuntando al primer elemento de la lista\n",
    "\n",
    "            while actual.prox not None: # recorro la lista hasta el final\n",
    "                actual = actual.prox \n",
    "\n",
    "            actual.prox = nuevo_nodo\n",
    "            self.len += 1\n",
    "        return\n",
    "\n",
    "    def index(self, x: int)-> int: #index(x) devuelve la posición de la primera aparición de x en la lista (si x no se encuentra presente, imprimirá un error y detendrá la ejecución inmediatamente.)\n",
    "        if self.len == 0:\n",
    "            print (\"Lista vacía\")\n",
    "        else: \n",
    "            actual = self.prim\n",
    "\n",
    "            contador = 0\n",
    "\n",
    "            while actual not None:\n",
    "                if actual.cargo == x: \n",
    "                    return contador              \n",
    "                actual = actual.prox\n",
    "                contador += \n",
    "\n",
    "    def extend(self, l: ListaEnlazada)-> None: #agregue a la lista actual los elementos que se encuentran en la lista recibida.\n",
    "        actual = l.prim\n",
    "        while actual.prox not None:\n",
    "            self.append(actual.cargo)\n",
    "    \n",
    "    def remover_todos(elemento)-> int:\n",
    "        \n",
    "            \n",
    "            \n",
    "\n"
   ]
  },
  {
   "cell_type": "markdown",
   "id": "d50ea342",
   "metadata": {},
   "source": [
    "## Ejercicio 2\n",
    "Agregue a ListaEnlazada un método extend que reciba una ListaEnlazada y agregue a la lista actual los elementos que se encuentran en la lista recibida. ¿Puede estimar la complejidad de este método?"
   ]
  },
  {
   "cell_type": "markdown",
   "id": "959e112c",
   "metadata": {},
   "source": [
    "## Ejercicio 3\n",
    "Implemente el método remover_todos(elemento) de ListaEnlazada, que recibe un elemento y remueve de la lista todas las apariciones del mismo, devolviendo la cantidad de elementos removidos. La\n",
    "lista debe ser recorrida una sola vez."
   ]
  },
  {
   "cell_type": "markdown",
   "id": "b617711e",
   "metadata": {},
   "source": [
    "## Ejercicio 4\n",
    "Implemente el método duplicar(elemento) de ListaEnlazada, que recibe un elemento y duplica\n",
    "todas las apariciones del mismo. Ejemplo:\n",
    "L = 1 -> 5 -> 8 -> 8 -> 2 -> 8\n",
    "L.duplicar(8) = L = 1 -> 5 -> 8 -> 8 -> 8 -> 8 -> 2 -> 8 -> 8"
   ]
  },
  {
   "cell_type": "markdown",
   "id": "f9e3858b",
   "metadata": {},
   "source": [
    "## Ejercicio 5\n",
    "Escriba un método de la clase ListaEnlazada que invierta el orden de la lista (es decir, el primer\n",
    "elemento queda como último y viceversa)."
   ]
  },
  {
   "cell_type": "markdown",
   "id": "6d84a964",
   "metadata": {},
   "source": [
    "## Ejercicio 6\n",
    "Una desventaja de la implementación del TAD Lista que vimos es que es relativamente caro insertar\n",
    "al final de la lista, dado que necesitamos recorrer todos los nodos para poder lograrlo. Esto se puede\n",
    "solucionar utilizando la estructura conocida como ListaDoblementeEnlazada. Esta estructura funciona\n",
    "en esencia del mismo modo que la ListaEnlazada que ya vimos, pero incorpora un atributo más (last)\n",
    "y el siguiente invariante de objeto:\n",
    "Invariante: El atributo last es None si la lista está vacía. Si no está vacía, last apunta al último\n",
    "elemento de la lista.\n",
    "Dar una implementación del TAD Lista utilizando una ListaDoblementeEnlazada"
   ]
  },
  {
   "cell_type": "markdown",
   "id": "f81c7628",
   "metadata": {},
   "source": [
    "## Ejercicio 7\n",
    "Implemente el método filtrar_primos() en la clase ListaEnlazada, que devuelve una nueva lista\n",
    "enlazada con los elementos que sean números primos. La nueva lista debe ser construida recorriendo\n",
    "los nodos una sola vez (es decir, no se puede llamar a append!). Ejemplo:\n",
    "L = 1 -> 5 -> 8 -> 8 -> 2 -> 8\n",
    "L.filtrar_primos() -> L2 = 5 -> 2\n",
    "Ayuda: Conviene definir primero una función es_primo(n) que reciba un número entero y decida si\n",
    "es primo o no."
   ]
  },
  {
   "cell_type": "markdown",
   "id": "d09250bc",
   "metadata": {},
   "source": [
    "## Ejercicio 8\n",
    "Se tiene una lista enlazada L de palabras, y se quiere insertar la palabra “mundo” despues de\n",
    "todas las apariciones de la palabra “hola”. Defina una función insertar_palabra_despues(lista,\n",
    "palabra_objetivo, palabra_insertar) que dada una lista, una palabra objetivo (hola) y una palabra\n",
    "a insertar (mundo) devuelva una nueva lista enlazada donde se agrega la nueva palabra cada vez que se\n",
    "encuentra la palabra objetivo.\n",
    "Por ejemplo:\n",
    "L = “Planificacion” -> “Hola” -> “de” -> “Trece”\n",
    "insertar_palabra_despues(L, “Hola”, “Mundo”) -> L2 = “Planificacion” -> “Hola” -> “Mundo” ->\n",
    "“de” -> “Trece”"
   ]
  },
  {
   "cell_type": "markdown",
   "id": "df29f314",
   "metadata": {},
   "source": [
    "## Ejercicio 9\n",
    "Se tiene una lista enlazada L de palabras, y se desea eliminar todas las palabras que contengan una\n",
    "ñ. Defina una función eliminar_palabras_con(lista, carácter) que dada una lista y un carácter,\n",
    "devuelva una nueva lista enlazada donde se eliminaron las apariciones de palabras conteniendo dicho\n",
    "carácter.\n",
    "Por ejemplo:\n",
    "L = “Ocho” -> “Veinte” -> “Veinticuatro” -> “Hoy”\n",
    "eliminar_palabras_con(L, “V”) -> L2 = “Ocho” -> “Hoy”"
   ]
  }
 ],
 "metadata": {
  "kernelspec": {
   "display_name": "Python 3",
   "language": "python",
   "name": "python3"
  },
  "language_info": {
   "codemirror_mode": {
    "name": "ipython",
    "version": 3
   },
   "file_extension": ".py",
   "mimetype": "text/x-python",
   "name": "python",
   "nbconvert_exporter": "python",
   "pygments_lexer": "ipython3",
   "version": "3.11.9"
  }
 },
 "nbformat": 4,
 "nbformat_minor": 5
}
