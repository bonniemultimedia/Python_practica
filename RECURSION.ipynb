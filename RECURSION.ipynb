{
 "cells": [
  {
   "cell_type": "markdown",
   "metadata": {},
   "source": [
    "# Práctica Recursión"
   ]
  },
  {
   "cell_type": "markdown",
   "metadata": {},
   "source": [
    "## Ejercicio 0\n",
    "Escriba una función recursiva factorial que tome un numero natural n y calcule su factorial n!."
   ]
  },
  {
   "cell_type": "code",
   "execution_count": 2,
   "metadata": {},
   "outputs": [],
   "source": [
    "def factorial(n: int)-> int:\n",
    "    if n==1:\n",
    "        return 1\n",
    "    return n * factorial(n-1)"
   ]
  },
  {
   "cell_type": "code",
   "execution_count": 3,
   "metadata": {},
   "outputs": [
    {
     "data": {
      "text/plain": [
       "24"
      ]
     },
     "execution_count": 3,
     "metadata": {},
     "output_type": "execute_result"
    }
   ],
   "source": [
    "factorial(4)"
   ]
  },
  {
   "cell_type": "markdown",
   "metadata": {},
   "source": [
    "## Ejercicio 1\n"
   ]
  },
  {
   "cell_type": "markdown",
   "metadata": {},
   "source": [
    "1. Escriba una función recursiva repite_hola que reciba como parámetro un número entero n y\n",
    "escriba por pantalla n veces el mensaje \"Hola\". Invóquela con distintos valores de n.\n"
   ]
  },
  {
   "cell_type": "code",
   "execution_count": 4,
   "metadata": {},
   "outputs": [],
   "source": [
    "def repite_hola_1(n: int):\n",
    "    if n == 0:\n",
    "        return\n",
    "    print(\"Hola\")\n",
    "    return repite_hola_1(n -1)"
   ]
  },
  {
   "cell_type": "code",
   "execution_count": 82,
   "metadata": {},
   "outputs": [
    {
     "name": "stdout",
     "output_type": "stream",
     "text": [
      "Hola\n",
      "Hola\n",
      "Hola\n",
      "Hola\n",
      "Hola\n"
     ]
    }
   ],
   "source": [
    "repite_hola_1(5)"
   ]
  },
  {
   "cell_type": "markdown",
   "metadata": {},
   "source": [
    "2. Escriba otra función repite_hola que reciba como parámetro un número entero n y devuelva la cadena formada por n concatenaciones de \"Hola\". Invóquela con distintos valores de n"
   ]
  },
  {
   "cell_type": "markdown",
   "metadata": {},
   "source": []
  },
  {
   "cell_type": "code",
   "execution_count": 83,
   "metadata": {},
   "outputs": [],
   "source": [
    "def repite_hola_2(n: int)-> str:\n",
    "    if n == 1:\n",
    "        return \"Hola\"\n",
    "    return \"Hola\" + repite_hola_2(n - 1)"
   ]
  },
  {
   "cell_type": "code",
   "execution_count": 84,
   "metadata": {},
   "outputs": [
    {
     "data": {
      "text/plain": [
       "'HolaHolaHolaHolaHola'"
      ]
     },
     "execution_count": 84,
     "metadata": {},
     "output_type": "execute_result"
    }
   ],
   "source": [
    "repite_hola_2(5)"
   ]
  },
  {
   "cell_type": "markdown",
   "metadata": {},
   "source": [
    "## Ejercicio 2"
   ]
  },
  {
   "cell_type": "markdown",
   "metadata": {},
   "source": [
    "1. Escriba una función repite_saludo que reciba como parámetro un número entero n y una cadena saludo y escriba por pantalla n veces el valor de saludo. Invóquela con distintos valores de n y de saludo."
   ]
  },
  {
   "cell_type": "code",
   "execution_count": 5,
   "metadata": {},
   "outputs": [],
   "source": [
    "def repite_saludo_1(n: int, cadena: str):\n",
    "    if n == 0:\n",
    "        return\n",
    "    print (cadena)\n",
    "    return repite_saludo_1(n - 1, cadena)"
   ]
  },
  {
   "cell_type": "code",
   "execution_count": 6,
   "metadata": {},
   "outputs": [
    {
     "name": "stdout",
     "output_type": "stream",
     "text": [
      "Datos 2\n",
      "Datos 2\n",
      "Datos 2\n",
      "Datos 2\n",
      "Datos 2\n"
     ]
    }
   ],
   "source": [
    "repite_saludo_1(5, \"Datos 2\")"
   ]
  },
  {
   "cell_type": "markdown",
   "metadata": {},
   "source": [
    "2. Escriba otra función repite_saludo que reciba como parámetro un número entero n y una cadena saludo y devuelva el valor de n concatenaciones de saludo. Invóquela con distintos valores de n y de saludo."
   ]
  },
  {
   "cell_type": "code",
   "execution_count": 87,
   "metadata": {},
   "outputs": [],
   "source": [
    "def repite_saludo_2(n: int, cadena: str)-> str:\n",
    "    if n == 1:\n",
    "        return cadena\n",
    "    return cadena + repite_saludo_2(n - 1, cadena)"
   ]
  },
  {
   "cell_type": "code",
   "execution_count": 88,
   "metadata": {},
   "outputs": [
    {
     "data": {
      "text/plain": [
       "'HolaHola'"
      ]
     },
     "execution_count": 88,
     "metadata": {},
     "output_type": "execute_result"
    }
   ],
   "source": [
    "repite_hola_2(2)"
   ]
  },
  {
   "cell_type": "markdown",
   "metadata": {},
   "source": [
    "## Ejercicio 3\n"
   ]
  },
  {
   "cell_type": "code",
   "execution_count": 7,
   "metadata": {},
   "outputs": [],
   "source": [
    "def misterio(a: int) -> int:\n",
    "    if a == 0:\n",
    "        return a\n",
    "    return 1 + misterio(a - 1)"
   ]
  },
  {
   "cell_type": "code",
   "execution_count": 8,
   "metadata": {},
   "outputs": [
    {
     "data": {
      "text/plain": [
       "5"
      ]
     },
     "execution_count": 8,
     "metadata": {},
     "output_type": "execute_result"
    }
   ],
   "source": [
    "misterio(5) "
   ]
  },
  {
   "cell_type": "markdown",
   "metadata": {},
   "source": [
    "Explique con sus palabras qué hace misterio(a) para cualquier a, sea positivo, negativo o 0."
   ]
  },
  {
   "cell_type": "markdown",
   "metadata": {},
   "source": [
    "## Ejercicio 6"
   ]
  },
  {
   "cell_type": "markdown",
   "metadata": {},
   "source": [
    "Escriba una función recursiva que tome un numero natural n e imprima todos los números desde n hasta 1.\n"
   ]
  },
  {
   "cell_type": "code",
   "execution_count": 9,
   "metadata": {},
   "outputs": [],
   "source": [
    "def naturales(n: int):\n",
    "    if n==0:\n",
    "        print(n)\n",
    "        return \n",
    "    print(n)\n",
    "    return naturales(n -1)"
   ]
  },
  {
   "cell_type": "code",
   "execution_count": 10,
   "metadata": {},
   "outputs": [
    {
     "name": "stdout",
     "output_type": "stream",
     "text": [
      "6\n",
      "5\n",
      "4\n",
      "3\n",
      "2\n",
      "1\n",
      "0\n"
     ]
    }
   ],
   "source": [
    "naturales(6)"
   ]
  },
  {
   "cell_type": "markdown",
   "metadata": {},
   "source": [
    "## Ejercicio 7:"
   ]
  },
  {
   "cell_type": "markdown",
   "metadata": {},
   "source": [
    "Convierta la siguiente función recursiva a una iterativa.\n",
    "```\n",
    "def recursiva(t: int, k: int) -> int:\n",
    "    if t >= 100:\n",
    "        return k\n",
    "    else:\n",
    "        return recursiva(t + k, k + 1)"
   ]
  },
  {
   "cell_type": "code",
   "execution_count": 13,
   "metadata": {},
   "outputs": [],
   "source": [
    "def recursiva_07(t: int, k: int)->int:\n",
    "    if t>=100:\n",
    "        return k\n",
    "    else: \n",
    "        return recursiva_07(t + k, k + 1)"
   ]
  },
  {
   "cell_type": "code",
   "execution_count": 14,
   "metadata": {},
   "outputs": [
    {
     "data": {
      "text/plain": [
       "52"
      ]
     },
     "execution_count": 14,
     "metadata": {},
     "output_type": "execute_result"
    }
   ],
   "source": [
    "recursiva_07(10, 50)"
   ]
  },
  {
   "cell_type": "code",
   "execution_count": 15,
   "metadata": {},
   "outputs": [],
   "source": [
    "def iterativa_07(t: int, k: int)-> int:\n",
    "\n",
    "    while t<100:\n",
    "        t = t + k\n",
    "        k += 1\n",
    "    \n",
    "    return k"
   ]
  },
  {
   "cell_type": "code",
   "execution_count": 16,
   "metadata": {},
   "outputs": [
    {
     "data": {
      "text/plain": [
       "50"
      ]
     },
     "execution_count": 16,
     "metadata": {},
     "output_type": "execute_result"
    }
   ],
   "source": [
    "iterativa_07(1000, 50)"
   ]
  },
  {
   "cell_type": "markdown",
   "metadata": {},
   "source": [
    "## Ejercicio 8\n"
   ]
  },
  {
   "cell_type": "markdown",
   "metadata": {},
   "source": [
    "Escriba una función recursiva que calcule el n-ésimo número triangular (el número 1 + 2 + 3 + ... + n)."
   ]
  },
  {
   "cell_type": "code",
   "execution_count": 17,
   "metadata": {},
   "outputs": [],
   "source": [
    "def triangular(n: int)-> int:\n",
    "    if n == 0:\n",
    "        return 0\n",
    "    return n + triangular(n - 1)"
   ]
  },
  {
   "cell_type": "code",
   "execution_count": 18,
   "metadata": {},
   "outputs": [
    {
     "data": {
      "text/plain": [
       "210"
      ]
     },
     "execution_count": 18,
     "metadata": {},
     "output_type": "execute_result"
    }
   ],
   "source": [
    "triangular(20)"
   ]
  },
  {
   "cell_type": "markdown",
   "metadata": {},
   "source": [
    "## Ejercicio 9\n"
   ]
  },
  {
   "cell_type": "markdown",
   "metadata": {},
   "source": [
    "Escriba una función recursiva que reciba un número positivo n y devuelva la cantidad de dígitos que tiene."
   ]
  },
  {
   "cell_type": "code",
   "execution_count": 19,
   "metadata": {},
   "outputs": [],
   "source": [
    "def digitos(n: int)-> int:\n",
    "    if n < 10:\n",
    "        return 1\n",
    "    return 1 + digitos(n // 10) "
   ]
  },
  {
   "cell_type": "code",
   "execution_count": 20,
   "metadata": {},
   "outputs": [
    {
     "data": {
      "text/plain": [
       "3"
      ]
     },
     "execution_count": 20,
     "metadata": {},
     "output_type": "execute_result"
    }
   ],
   "source": [
    "digitos(120)"
   ]
  },
  {
   "cell_type": "code",
   "execution_count": 21,
   "metadata": {},
   "outputs": [
    {
     "data": {
      "text/plain": [
       "2"
      ]
     },
     "execution_count": 21,
     "metadata": {},
     "output_type": "execute_result"
    }
   ],
   "source": [
    "digitos(10)"
   ]
  },
  {
   "cell_type": "code",
   "execution_count": 22,
   "metadata": {},
   "outputs": [
    {
     "data": {
      "text/plain": [
       "1"
      ]
     },
     "execution_count": 22,
     "metadata": {},
     "output_type": "execute_result"
    }
   ],
   "source": [
    "digitos(3)"
   ]
  },
  {
   "cell_type": "markdown",
   "metadata": {},
   "source": [
    "## Ejercicio 10"
   ]
  },
  {
   "cell_type": "markdown",
   "metadata": {},
   "source": [
    "Escriba una función recursiva que reciba 2 enteros n y b y devuelva True si n es potencia de b.\n",
    "\n",
    "Ejemplos: </br> \n",
    "• es_potencia(8, 2) -> True </br> \n",
    "• es_potencia(64, 4) -> True </br> \n",
    "• es_potencia(70, 10) -> False </br> "
   ]
  },
  {
   "cell_type": "code",
   "execution_count": 32,
   "metadata": {},
   "outputs": [],
   "source": [
    "def es_potencia(n: int, b: int)-> bool:\n",
    "    # Casos base\n",
    "    if n == 1:\n",
    "        return True  # porque b^0 = 1 para cualquier b != 0\n",
    "    if n < b or n % b != 0:\n",
    "        return False\n",
    "    # Llamada recursiva\n",
    "    return es_potencia(n // b, b)"
   ]
  },
  {
   "cell_type": "code",
   "execution_count": 33,
   "metadata": {},
   "outputs": [
    {
     "data": {
      "text/plain": [
       "True"
      ]
     },
     "execution_count": 33,
     "metadata": {},
     "output_type": "execute_result"
    }
   ],
   "source": [
    " es_potencia(8, 2)"
   ]
  },
  {
   "cell_type": "code",
   "execution_count": 34,
   "metadata": {},
   "outputs": [
    {
     "data": {
      "text/plain": [
       "True"
      ]
     },
     "execution_count": 34,
     "metadata": {},
     "output_type": "execute_result"
    }
   ],
   "source": [
    " es_potencia(64, 4)"
   ]
  },
  {
   "cell_type": "markdown",
   "metadata": {},
   "source": [
    "# Recursión con listas"
   ]
  },
  {
   "cell_type": "markdown",
   "metadata": {},
   "source": [
    "## Ejercicio 11"
   ]
  },
  {
   "cell_type": "markdown",
   "metadata": {},
   "source": [
    "Escriba una función recursiva que encuentre el mayor elemento de una lista."
   ]
  },
  {
   "cell_type": "code",
   "execution_count": 23,
   "metadata": {},
   "outputs": [],
   "source": [
    "def mayor(lista: list):\n",
    "    if len(lista) == 1:\n",
    "        return lista[0]\n",
    "    return max(lista[0], mayor(lista[1:]))"
   ]
  },
  {
   "cell_type": "code",
   "execution_count": 24,
   "metadata": {},
   "outputs": [
    {
     "data": {
      "text/plain": [
       "1520"
      ]
     },
     "execution_count": 24,
     "metadata": {},
     "output_type": "execute_result"
    }
   ],
   "source": [
    "lista = [1520, 5, 60]\n",
    "mayor(lista)"
   ]
  },
  {
   "cell_type": "markdown",
   "metadata": {},
   "source": [
    "## Ejercicio 12"
   ]
  },
  {
   "cell_type": "markdown",
   "metadata": {},
   "source": [
    "Convierta la siguiente función iterativa a una recursiva"
   ]
  },
  {
   "cell_type": "code",
   "execution_count": 27,
   "metadata": {},
   "outputs": [],
   "source": [
    "def iterativa(l: list[int]) -> int:\n",
    "    c = 1\n",
    "    for i in l:\n",
    "        c = c * i\n",
    "    return c    "
   ]
  },
  {
   "cell_type": "code",
   "execution_count": 26,
   "metadata": {},
   "outputs": [
    {
     "data": {
      "text/plain": [
       "30"
      ]
     },
     "execution_count": 26,
     "metadata": {},
     "output_type": "execute_result"
    }
   ],
   "source": [
    "lista = [5, 3, 2]\n",
    "\n",
    "iterativa(lista)"
   ]
  },
  {
   "cell_type": "code",
   "execution_count": null,
   "metadata": {},
   "outputs": [],
   "source": [
    "def recursiva_12(l: list[int])-> int:\n",
    "    if len(l) == 1:\n",
    "        return l[0]\n",
    "    return l[0] * recursiva_12(l[1:])"
   ]
  },
  {
   "cell_type": "code",
   "execution_count": 78,
   "metadata": {},
   "outputs": [
    {
     "data": {
      "text/plain": [
       "2"
      ]
     },
     "execution_count": 78,
     "metadata": {},
     "output_type": "execute_result"
    }
   ],
   "source": [
    "recursiva_12(lista)"
   ]
  },
  {
   "cell_type": "markdown",
   "metadata": {},
   "source": [
    "## Ejercicio 13"
   ]
  },
  {
   "cell_type": "markdown",
   "metadata": {},
   "source": [
    "Escriba una función recursiva para replicar los elementos de una lista una cantidad n de veces. Por ejemplo:\n",
    "</br>\n",
    "• replicar([1, 3, 3, 7], 2) -> ([1, 1, 3, 3, 3, 3, 7, 7])\n"
   ]
  },
  {
   "cell_type": "code",
   "execution_count": 28,
   "metadata": {},
   "outputs": [],
   "source": [
    "def replicar(l: list, n: int)-> list:\n",
    "    if l == []:\n",
    "        return []\n",
    "    \n",
    "    elemento_replicado = [l[0]] * n\n",
    "\n",
    "    print(elemento_replicado)\n",
    "\n",
    "    resto_replicado = replicar(l[1:], n)\n",
    "\n",
    "    print(resto_replicado)\n",
    "    \n",
    "    return elemento_replicado + resto_replicado\n"
   ]
  },
  {
   "cell_type": "code",
   "execution_count": 29,
   "metadata": {},
   "outputs": [
    {
     "name": "stdout",
     "output_type": "stream",
     "text": [
      "[1, 1]\n",
      "[3, 3]\n",
      "[3, 3]\n",
      "[7, 7]\n",
      "[]\n",
      "[7, 7]\n",
      "[3, 3, 7, 7]\n",
      "[3, 3, 3, 3, 7, 7]\n"
     ]
    },
    {
     "data": {
      "text/plain": [
       "[1, 1, 3, 3, 3, 3, 7, 7]"
      ]
     },
     "execution_count": 29,
     "metadata": {},
     "output_type": "execute_result"
    }
   ],
   "source": [
    "lista_02 = [1, 3, 3, 7]\n",
    "\n",
    "replicar(lista_02, 2)"
   ]
  },
  {
   "cell_type": "markdown",
   "metadata": {},
   "source": [
    "## Ejercicio 14\n"
   ]
  },
  {
   "cell_type": "markdown",
   "metadata": {},
   "source": [
    "Escriba una función que tome una lista y devuelva esa misma lista en orden inverso. Realice dos versiones:\n",
    "\n",
    "• reversaR que resuelva utilizando recursión.\n",
    "\n",
    "• reversaI que resuelva utilizando iteración.\n",
    "\n",
    "Nota: No utilice la función built-in reversed en su solución, ni el método reversed."
   ]
  },
  {
   "cell_type": "code",
   "execution_count": 30,
   "metadata": {},
   "outputs": [],
   "source": [
    "def reversaR(l: list)->list:\n",
    "    if len(l) == 1:\n",
    "        return [l[0]]\n",
    "    return [l[-1]] + reversaR(l[:-1])"
   ]
  },
  {
   "cell_type": "code",
   "execution_count": 49,
   "metadata": {},
   "outputs": [
    {
     "data": {
      "text/plain": [
       "[300, 80, 2, 10]"
      ]
     },
     "execution_count": 49,
     "metadata": {},
     "output_type": "execute_result"
    }
   ],
   "source": [
    "lista = [10, 2, 80, 300]\n",
    "\n",
    "reversaR(lista)"
   ]
  },
  {
   "cell_type": "code",
   "execution_count": 53,
   "metadata": {},
   "outputs": [],
   "source": [
    "def reversaI(l: list)->list:\n",
    "    lista_reversa = []\n",
    "   \n",
    "    while l != []:\n",
    "        ultimo = l.pop()\n",
    "        lista_reversa.append(ultimo)\n",
    "\n",
    "    return lista_reversa"
   ]
  },
  {
   "cell_type": "code",
   "execution_count": 54,
   "metadata": {},
   "outputs": [
    {
     "data": {
      "text/plain": [
       "[120, 580, 20]"
      ]
     },
     "execution_count": 54,
     "metadata": {},
     "output_type": "execute_result"
    }
   ],
   "source": [
    "lista_r = [20, 580, 120]\n",
    "reversaI(lista_r)"
   ]
  },
  {
   "cell_type": "markdown",
   "metadata": {},
   "source": [
    "# Recursión con strings"
   ]
  },
  {
   "cell_type": "markdown",
   "metadata": {},
   "source": [
    "## Ejercicio 15\n",
    "Escribir una función recursiva que reciba como parámetros dos cadenas a y b, y encuentre la posición de la primer ocurrencia de b como subcadena de a. <br>\n",
    "Ejemplo:<br>\n",
    "• posicion_de(\"Un tete a tete con Tete\", \"te\") -> 3<br>\n",
    "• posicion_de(\"Un tete a tete con Tete\", \"Te\") -> 19\n"
   ]
  },
  {
   "cell_type": "code",
   "execution_count": null,
   "metadata": {},
   "outputs": [],
   "source": []
  }
 ],
 "metadata": {
  "kernelspec": {
   "display_name": "Python 3",
   "language": "python",
   "name": "python3"
  },
  "language_info": {
   "codemirror_mode": {
    "name": "ipython",
    "version": 3
   },
   "file_extension": ".py",
   "mimetype": "text/x-python",
   "name": "python",
   "nbconvert_exporter": "python",
   "pygments_lexer": "ipython3",
   "version": "3.11.9"
  }
 },
 "nbformat": 4,
 "nbformat_minor": 2
}
