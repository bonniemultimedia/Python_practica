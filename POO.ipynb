{
  "cells": [
    {
      "cell_type": "markdown",
      "metadata": {
        "id": "j3sTF5h-XSAK"
      },
      "source": [
        "# Practica 1"
      ]
    },
    {
      "cell_type": "markdown",
      "metadata": {
        "id": "RcviD8OMcsfg"
      },
      "source": [
        "## **Ejercicio 1**"
      ]
    },
    {
      "cell_type": "markdown",
      "metadata": {},
      "source": [
        "Considere las clases `Point` y `Rectangle` que vimos en la clase de teoría."
      ]
    },
    {
      "cell_type": "code",
      "execution_count": 10,
      "metadata": {
        "id": "G1gRmCjtcsCe"
      },
      "outputs": [],
      "source": [
        "import math\n",
        "\n",
        "class Point:\n",
        "    \"\"\" representación de un punto en un plano cartesiano 2D \"\"\"\n",
        "    def __init__(self, x: float, y: float) -> None:\n",
        "        self.x = x\n",
        "        self.y = y\n",
        "\n",
        "    def __str__(self) -> str:\n",
        "        return '(' + str(self.x) + ', '+ str(self.y) + ')'\n",
        "\n",
        "    def __eq__(self, other: 'Point') -> bool:\n",
        "        return self.x == other.x and self.y == other.y\n",
        "\n",
        "    def __add__ ( self , other : ' Point ') -> ' Point ':\n",
        "        return Point ( self . x + other .x , self . y + other . y )\n",
        "\n",
        "    def distancia(self, other: \"Point\")-> float:\n",
        "        return math.sqrt((other.x - self.x)**2 + (other.y - self.y)**2)\n",
        "\n",
        "\n",
        "class Rectangle:\n",
        "    def __init__(self, width: float, height: float, corner: Point) -> None:\n",
        "        self.width = width\n",
        "        self.height = height\n",
        "        self.corner = corner\n",
        "    \n",
        "    def __str__(self) -> str:\n",
        "        return f\"Ancho: {self.width} - Alto: {self.height} - Esquina Sup. Izq.: {self.corner}\"\n",
        "\n",
        "    def __eq__(self, other) -> bool:\n",
        "        return self.width == other.width and self.height == other.height and self.corner == other.corner"
      ]
    },
    {
      "cell_type": "markdown",
      "metadata": {
        "id": "JqALSes9dYuU"
      },
      "source": [
        "a. Defina métodos `__str__` y `__eq__` apropiados para `Rectangle`."
      ]
    },
    {
      "cell_type": "markdown",
      "metadata": {},
      "source": [
        "b. Defina una función llamada mover rectangulo que tome un rectángulo y dos parámetros dx y dy. Esta función debería cambiar de posición el rectángulo sumando dx a la coordenada x de la esquina superior izquierda y del mismo modo sumar dy a la coordenada y de la esquina superior izquierda. Haga las dos versiones, una función pura y una función modificadora.\n",
        "\n",
        "c. Escriba código para crear algunas instancias de puntos y rectangulos y pruebe los métodos y funciones que escribió."
      ]
    },
    {
      "cell_type": "code",
      "execution_count": 7,
      "metadata": {},
      "outputs": [
        {
          "name": "stdout",
          "output_type": "stream",
          "text": [
            "Ancho: 200 - Alto: 500 - Esquina Sup. Izq.: (5, 6)\n",
            "Ancho: 200 - Alto: 500 - Esquina Sup. Izq.: (5, 6)\n",
            "Ancho: 200 - Alto: 500 - Esquina Sup. Izq.: (7, 9)\n"
          ]
        }
      ],
      "source": [
        "import copy\n",
        "\n",
        "def mover_rectangulo(r: Rectangle, dx: float, dy:float)-> Rectangle:\n",
        "    r2 = Rectangle(r.width,r.height,Point(r.corner.x, r.corner.y))\n",
        "    r2.corner.x += dx\n",
        "    r2.corner.y += dy\n",
        "    return r2\n",
        "\n",
        "R3 = Rectangle(200, 500, Point(5,6))\n",
        "print(R3)\n",
        "R4 = mover_rectangulo(R3,2,3)\n",
        "print(R3)\n",
        "print(R4)\n",
        "    "
      ]
    },
    {
      "cell_type": "code",
      "execution_count": 8,
      "metadata": {},
      "outputs": [
        {
          "name": "stdout",
          "output_type": "stream",
          "text": [
            "Ancho: 200 - Alto: 500 - Esquina Sup. Izq.: (5, 6)\n",
            "Ancho: 200 - Alto: 500 - Esquina Sup. Izq.: (5, 6)\n",
            "Ancho: 200 - Alto: 500 - Esquina Sup. Izq.: (7, 9)\n"
          ]
        }
      ],
      "source": [
        "def mover_rectangulo_v2(r:Rectangle, dx: float, dy:float)-> Rectangle:\n",
        "    r2 = copy.deepcopy(r)\n",
        "    #r2 = Rectangle(r.width,r.height,Point(r.corner.x, r.corner.y))\n",
        "    r2.corner.x += dx\n",
        "    r2.corner.y += dy\n",
        "    return r2\n",
        "\n",
        "\n",
        "R3 = Rectangle(200, 500, Point(5,6))\n",
        "print(R3)\n",
        "R4 = mover_rectangulo_v2(R3,2,3)\n",
        "print(R3)\n",
        "print(R4)\n"
      ]
    },
    {
      "cell_type": "markdown",
      "metadata": {
        "id": "mrJyQknhudRG"
      },
      "source": [
        "## **Ejercicio 2** Defina, en la clase `Point`, un método `distancia()` que nos de la distancia euclídea entre dos puntos.\n",
        "\n",
        "**Nota** Recordar que la distancia euclídea entre dos puntos $A = (x_1, y_1)$ y $B = (x_2, y_2)$ se calcula como:\n",
        "$d = \\sqrt{(x_2 - x_1)^2 + (y_2 - y_1) ^2}$"
      ]
    },
    {
      "cell_type": "code",
      "execution_count": 11,
      "metadata": {},
      "outputs": [
        {
          "data": {
            "text/plain": [
              "14.142135623730951"
            ]
          },
          "execution_count": 11,
          "metadata": {},
          "output_type": "execute_result"
        }
      ],
      "source": [
        "punto01 = Point(20, 5)\n",
        "punto02 = Point(6, 3)\n",
        "\n",
        "punto01.distancia(punto02)"
      ]
    },
    {
      "cell_type": "markdown",
      "metadata": {
        "id": "HX7KLHj0i0jD"
      },
      "source": [
        "## **Ejercicio 3** Defina la clase `Automóvil` que contenga (al menos) los siguientes atributos:\n",
        "\n",
        "- patente (string)\n",
        "- marca (string)\n",
        "- kilometros_recorridos (float)\n",
        "- litros_nafta (float)\n",
        "\n",
        "La clase deberá proveer un constructor que permita inicializar los atributos, siendo obligatorios patente y marca. kilometros_recorridos y litros_nafta, se pueden especificar o no. Si no se especifican, se inicializarán por defecto en 0.\n",
        "\n",
        "La clase tendrá además un método llamado avanzar() que recibirá como argumento el número de kilómetros a conducir y sumará los kilómetros recorridos al valor del atributo kilometros_recorridos. El método también restará al valor de litros_nafta la cantidad consumida (se calcula el consumo de gasolina como 8,8 litros por cada 100kms recorridos).\n",
        "\n",
        "La clase también contendrá otro método llamado cargar_nafta() que recibirá como argumento los litros introducidos que deberán sumarse a la variable litros_nafta.\n",
        "\n",
        "Por último, será necesario controlar que el método avanzar nunca obtendrá un número negativo en la gasolina. En dicho caso, deberá mostrar el siguiente mensaje: \"Es necesario cargar nafta para recorrer la cantidad indicada de kilómetros\".\n",
        "\n",
        "Ejemplos de uso:\n",
        "\n",
        "```python\n",
        "auto = Automovil(\"AEF-202\", \"Peugeot\")\n",
        "auto.cargar_nafta(10)\n",
        "print(auto.kilometros_recorridos) # deberia mostrar 0\n",
        "print(auto.litros_nafta) # deberia mostrar 10\n",
        "auto.avanzar(50)\n",
        "print(auto.kilometros_recorridos) # deberia mostrar 50\n",
        "print(auto.litros_nafta) # deberia mostrar 5.6\n",
        "auto.avanzar(100) # Deberia mostrar un mensaje de error: no nos alcanza la nafta\n",
        "auto.avanzar(40)\n",
        "print(auto.kilometros_recorridos) # deberia mostrar 90\n",
        "print(auto.litros_nafta) # deberia mostrar 2.08\n",
        "```"
      ]
    },
    {
      "cell_type": "code",
      "execution_count": 28,
      "metadata": {},
      "outputs": [],
      "source": [
        "class Automovil():\n",
        "    def __init__(self, patente: str, marca: str, kilometros_recorridos = 0, litros_nafta = 0)-> None:\n",
        "        self.patente = patente\n",
        "        self.marca = marca\n",
        "        self.kilometros_recorridos = kilometros_recorridos\n",
        "        self.litros_nafta = litros_nafta\n",
        "    \n",
        "    def avanzar(self, kilometros_a_conducir):\n",
        "        \n",
        "        nafta_consumida = (kilometros_a_conducir * 8.8)/100\n",
        "        if (self.litros_nafta-nafta_consumida) < 0:\n",
        "            print(\"Es necesario cargar nafta para recorrer la cantidad indicada de kilómetros\")\n",
        "        else: \n",
        "            self.kilometros_recorridos += kilometros_a_conducir\n",
        "            self.litros_nafta -= nafta_consumida\n",
        "\n",
        "    def cargar_nafta(self, litros_introducidos):\n",
        "        self.litros_nafta += litros_introducidos\n",
        "\n",
        "    "
      ]
    },
    {
      "cell_type": "code",
      "execution_count": 29,
      "metadata": {},
      "outputs": [
        {
          "name": "stdout",
          "output_type": "stream",
          "text": [
            "0\n",
            "10\n",
            "50\n",
            "5.6\n",
            "Es necesario cargar nafta para recorrer la cantidad indicada de kilómetros\n",
            "90\n",
            "2.0799999999999996\n"
          ]
        }
      ],
      "source": [
        "auto = Automovil(\"AEF-202\", \"Peugeot\")\n",
        "auto.cargar_nafta(10)\n",
        "print(auto.kilometros_recorridos) # deberia mostrar 0\n",
        "print(auto.litros_nafta) # deberia mostrar 10\n",
        "auto.avanzar(50) \n",
        "print(auto.kilometros_recorridos) # deberia mostrar 50\n",
        "print(auto.litros_nafta) # deberia mostrar 5.6\n",
        "auto.avanzar(100) # Deberia mostrar un mensaje de error: no nos alcanza la nafta\n",
        "auto.avanzar(40)\n",
        "print(auto.kilometros_recorridos) # deberia mostrar 90\n",
        "print(auto.litros_nafta) # deberia mostrar 2.08"
      ]
    },
    {
      "cell_type": "markdown",
      "metadata": {
        "id": "pKEHPN34oqSw"
      },
      "source": [
        "## **Ejercicio 4** Defina una clase Robot que simule los movimientos de un robot y calcule la posición en la que se encuentra cada momento. El robot se moverá por un tablero infinito de coordenadas X e Y, podrá realizar los siguientes movimientos:\n",
        "\n",
        "- Avanzar hacia adelante (A)\n",
        "- Retroceder (R)\n",
        "- Avanzar hacia la izquierda (I) o hacia la derecha (D)\n",
        "\n",
        "El robot tendrá un método llamado mueve() que recibirá la orden como parámetro y otro método, posicion_actual(), que indicará su posición en las coordenadas X e Y. Al crear el robot este se inicializará a las coordenadas (0,0).\n",
        "\n",
        "Puedes utilizar el siguiente código para probar la clase creada:\n",
        "```python\n",
        "mi_robot = Robot()\n",
        "orden = input(\"Introduce la orden: \")\n",
        "while orden != 'fin':\n",
        "    mi_robot.mueve(orden)\n",
        "    print(mi_robot.posicion_actual())\n",
        "    orden = input(\"Introduce la orden: \")\n",
        "\n",
        "```"
      ]
    },
    {
      "cell_type": "code",
      "execution_count": 26,
      "metadata": {},
      "outputs": [],
      "source": [
        "class Robot():\n",
        "    def __init__(self):\n",
        "        self.x = 0\n",
        "        self.y = 0\n",
        "    \n",
        "    def mueve(self, orden: str):\n",
        "        if orden == \"A\":\n",
        "            self.y += 1\n",
        "        elif orden == \"R\":\n",
        "            self.y -= 1\n",
        "        elif orden == \"I\":\n",
        "            self.x -= 1\n",
        "        elif orden == \"D\":\n",
        "            self.x += 1\n",
        "        else: \n",
        "            \"Orden Inválida\"\n",
        "    \n",
        "    def posicion_actual(self):\n",
        "        return f\" El robot se encuentra en las coordenadas X = {self.x} e Y = {self.y}\"\n"
      ]
    },
    {
      "cell_type": "code",
      "execution_count": 27,
      "metadata": {},
      "outputs": [
        {
          "name": "stdout",
          "output_type": "stream",
          "text": [
            " El robot se encuentra en las coordenadas X = 0 e Y = -1\n",
            " El robot se encuentra en las coordenadas X = 0 e Y = -2\n",
            " El robot se encuentra en las coordenadas X = 0 e Y = -1\n",
            " El robot se encuentra en las coordenadas X = -1 e Y = -1\n",
            " El robot se encuentra en las coordenadas X = 0 e Y = -1\n"
          ]
        }
      ],
      "source": [
        "mi_robot = Robot()\n",
        "orden = input(\"Introduce la orden: \")\n",
        "while orden != 'fin':\n",
        "    mi_robot.mueve(orden)\n",
        "    print(mi_robot.posicion_actual())\n",
        "    orden = input(\"Introduce la orden: \")"
      ]
    },
    {
      "cell_type": "markdown",
      "metadata": {
        "id": "B449yaeKqeFX"
      },
      "source": [
        "**Ejercicio 5** Mejora el robot que acabamos de implementar:\n",
        "\n",
        "- Ahora `mover` puede recibir un solo movimiento, o bien, una secuencia de movimientos (por ejemplo, \"RRAARDDI\"). **Atención**: si la secuencia de movimientos contiene algun movimiento inválido, debe informarlo antes de realizar cualquier movimiento.\n",
        "\n",
        "- Agregar un método `obtener_historico_de_movimientos` que devuelva el historial de movimientos que realizo el robot.\n",
        "\n",
        "- Agregar un método `como_volver` que indique la secuencia de movimientos que deberiamos realizar para regresar a la coordenada (0,0)."
      ]
    },
    {
      "cell_type": "code",
      "execution_count": null,
      "metadata": {},
      "outputs": [],
      "source": [
        "class Robot_II():\n",
        "    def __init__(self):\n",
        "        self.x = 0\n",
        "        self.y = 0\n",
        "\n",
        "    def posicion_actual(self):\n",
        "        return f\" El robot se encuentra en las coordenadas X = {self.x} e Y = {self.y}\"\n",
        "    \n",
        "    def _movimientos_validos(self, orden)-> bool:\n",
        "        movimientos_validos = [\"A\", \"R\", \"I\", \"D\"]\n",
        "        for caracter in orden:\n",
        "            if caracter not in movimientos_validos:\n",
        "                return False\n",
        "        return True\n",
        "                  \n",
        "    def mover(self, orden):\n",
        "        if self._movimientos_validos(orden):\n",
        "            for caracter in orden:\n",
        "                if caracter == \"A\":\n",
        "                    self.y += 1\n",
        "                elif caracter == \"R\":\n",
        "                    self.y -= 1\n",
        "                elif caracter == \"I\":\n",
        "                    self.x -= 1\n",
        "                elif caracter == \"D\":\n",
        "                    self.x += 1\n",
        "        else:\n",
        "            print(\"Movimientos invalidos\") \n",
        "\n",
        " "
      ]
    },
    {
      "cell_type": "code",
      "execution_count": 112,
      "metadata": {},
      "outputs": [
        {
          "name": "stdout",
          "output_type": "stream",
          "text": [
            "False\n",
            "Movimientos invalidos\n"
          ]
        }
      ],
      "source": [
        "robot_a = Robot_II() \n",
        "\n",
        "orden1 = \"ao\"\n",
        "\n",
        "robot_asd.mover(orden1)"
      ]
    },
    {
      "cell_type": "code",
      "execution_count": 113,
      "metadata": {},
      "outputs": [
        {
          "name": "stdout",
          "output_type": "stream",
          "text": [
            "False\n",
            "Movimientos invalidos\n"
          ]
        }
      ],
      "source": [
        "robot_asd = Robot_II() \n",
        "\n",
        "orden2 = \"o\"\n",
        "\n",
        "robot_asd.mover(orden2)"
      ]
    },
    {
      "cell_type": "code",
      "execution_count": 114,
      "metadata": {},
      "outputs": [
        {
          "name": "stdout",
          "output_type": "stream",
          "text": [
            "True\n"
          ]
        },
        {
          "data": {
            "text/plain": [
              "' El robot se encuentra en las coordenadas X = -1 e Y = 2'"
            ]
          },
          "execution_count": 114,
          "metadata": {},
          "output_type": "execute_result"
        }
      ],
      "source": [
        "robot_II = Robot_II() \n",
        "\n",
        "orden3 = \"AAI\"\n",
        "\n",
        "robot_II.mover(orden3)\n",
        "\n",
        "robot_II.posicion_actual()\n"
      ]
    },
    {
      "cell_type": "markdown",
      "metadata": {
        "id": "nKrNK6AXl_0w"
      },
      "source": [
        "# Composición y Herencia\n",
        "\n"
      ]
    },
    {
      "cell_type": "markdown",
      "metadata": {
        "id": "UU0HOHMdx3F7"
      },
      "source": [
        "**Ejercicio 6** Crear las clases Materia y Carrera.\n",
        "\n",
        "Cada materia tiene:\n",
        "- Un código de materia.\n",
        "- Un nombre de la materia.\n",
        "- Una cantidad de creditos que aporta.\n",
        "\n",
        "Una carrera puede pensarse como una lista de materias.\n",
        "\n",
        "La clase deberia comportarse de forma que el siguiente ejemplo tenga sentido:\n",
        "\n",
        "```python\n",
        ">>> analisis2 = Materia(\"61.03\", \"Análisis 2\", 8)\n",
        ">>> fisica2 = Materia(\"62.01\", \"Física 2\", 8)\n",
        ">>> algo1 = Materia(\"75.40\", \"Algoritmos 1\", 6)\n",
        ">>> c = Carrera([analisis2, fisica2, algo1])\n",
        ">>> str(c)\n",
        "Créditos: 0 -- Promedio: N/A -- Materias aprobadas:\n",
        ">>> c.aprobar(\"95.14\", 7)\n",
        "ValueError: La materia 75.14 no es parte del plan de estudios\n",
        ">>> c.aprobar(\"75.40\", 10)\n",
        ">>> c.aprobar(\"62.01\", 7)\n",
        ">>> str(c)\n",
        "Créditos: 14 -- Promedio: 8.5 -- Materias aprobadas:\n",
        "75.40 Algoritmos 1 (10)\n",
        "62.01 Física 2 (7)\n",
        "```\n"
      ]
    },
    {
      "cell_type": "markdown",
      "metadata": {
        "id": "-G4aoc0-5zIh"
      },
      "source": [
        "**Ejercicio 7** Encontrar los errores en el siguiente código y proponer soluciones"
      ]
    },
    {
      "cell_type": "code",
      "execution_count": null,
      "metadata": {
        "id": "XFUwcspj526y"
      },
      "outputs": [],
      "source": [
        "class Cosa:\n",
        "    def __init__(self, valor):\n",
        "        self.valor = valor\n",
        "\n",
        "class Coleccion:\n",
        "    def __init__(self):\n",
        "        self.coleccion = []\n",
        "\n",
        "    def agregar_cosa(cosa: Cosa):\n",
        "        coleccion.append(cosa)\n",
        "\n",
        "cosa = Cosa()\n",
        "coleccion = Coleccion()\n",
        "coleccion.agregar_cosa(cosa)"
      ]
    },
    {
      "cell_type": "markdown",
      "metadata": {
        "id": "l8GfGy9I2JlK"
      },
      "source": [
        "**Ejercicio 8** Considere la siguiente jerarquía de clases:\n",
        "\n",
        "\n",
        "```\n",
        "                          |--- Felinos\n",
        "Animales --- Mamiferos ---|--- Canidos\n",
        "                          |--- Primates --- Hacker\n",
        "```\n",
        "\n",
        "Programe un conjunto de seis clases que modele esta taxonomía utilizando clases. Luego, agregue un método `speak` a cada clase imprimiendo un mensaje apropiado a cada clase (por ejemplo, una instancia de animal podria imprimir \"Soy un animal\").\n",
        "\n",
        "Luego, agregue un método `talk` a la clase Animal, que simplemente delegue el funcionamiento en `speak`. ¿Que ocurre al llamar a `talk` en una sublacse? ¿Que ocurre si borramos el método `speak` de la clase `Hacker`?"
      ]
    },
    {
      "cell_type": "markdown",
      "metadata": {
        "id": "cC6POVRl41zd"
      },
      "source": [
        "**Ejercicio 9** Complete la funcionalidad de la clase Jugador, implementando los siguientes métodos:\n",
        "\n",
        "- `golpeado`: quita vida al jugador.\n",
        "- `golpear`: quita vida al enemigo y lo agrega a la lista de enemigos golpeados\n"
      ]
    },
    {
      "cell_type": "code",
      "execution_count": null,
      "metadata": {
        "id": "eXrx51ol5knj"
      },
      "outputs": [],
      "source": [
        "class Entidad:\n",
        "    def __init__(self, vida_inicial: int):\n",
        "        self.vida = vida_inicial\n",
        "\n",
        "class Enemigo(Entidad):\n",
        "    pass\n",
        "\n",
        "class Jugador(Entidad):\n",
        "    def __init__(self, vida_inicial: int):\n",
        "        super().__init__(vida_inicial)\n",
        "        self.enemigos_golpeados = []\n",
        "\n",
        "    def golpeado(self, cuanto):\n",
        "        # Completar\n",
        "        pass\n",
        "\n",
        "    def golpear(self, enemigo, cuanto):\n",
        "        # completar!\n",
        "        pass"
      ]
    }
  ],
  "metadata": {
    "colab": {
      "provenance": [],
      "toc_visible": true
    },
    "kernelspec": {
      "display_name": "Python 3",
      "name": "python3"
    },
    "language_info": {
      "codemirror_mode": {
        "name": "ipython",
        "version": 3
      },
      "file_extension": ".py",
      "mimetype": "text/x-python",
      "name": "python",
      "nbconvert_exporter": "python",
      "pygments_lexer": "ipython3",
      "version": "3.11.9"
    }
  },
  "nbformat": 4,
  "nbformat_minor": 0
}
